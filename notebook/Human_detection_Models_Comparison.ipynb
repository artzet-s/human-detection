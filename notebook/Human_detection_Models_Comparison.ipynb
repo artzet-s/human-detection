{
  "nbformat": 4,
  "nbformat_minor": 0,
  "metadata": {
    "colab": {
      "name": "Human detection - Models Comparison",
      "provenance": [],
      "collapsed_sections": [],
      "toc_visible": true
    },
    "kernelspec": {
      "name": "python3",
      "display_name": "Python 3"
    },
    "accelerator": "GPU"
  },
  "cells": [
    {
      "cell_type": "markdown",
      "metadata": {
        "id": "yoMe9PtslJ8i"
      },
      "source": [
        "# Human detection - Models Comparison\n",
        "\n",
        "**Warning - Notebook runned on colab.research platform**\n",
        "\n",
        "Also, don't forget to activate GPU\n",
        "\n",
        "# Prerequies - download & install\n",
        "\n",
        "### 1.My **human-detection** package"
      ]
    },
    {
      "cell_type": "code",
      "metadata": {
        "colab": {
          "base_uri": "https://localhost:8080/"
        },
        "id": "MfM6IZT8lDnY",
        "outputId": "14d7336d-9b01-4455-d4f4-de0f5679f35f"
      },
      "source": [
        "!git clone https://github.com/artzet-s/human-detection\n",
        "%cd human-detection\n",
        "%run setup.py install\n",
        "# WARNING - You must restart environement after\n",
        "%cd .."
      ],
      "execution_count": 1,
      "outputs": [
        {
          "output_type": "stream",
          "text": [
            "Cloning into 'human-detection'...\n",
            "remote: Enumerating objects: 92, done.\u001b[K\n",
            "remote: Counting objects: 100% (92/92), done.\u001b[K\n",
            "remote: Compressing objects: 100% (64/64), done.\u001b[K\n",
            "remote: Total 92 (delta 44), reused 76 (delta 28), pack-reused 0\u001b[K\n",
            "Unpacking objects: 100% (92/92), done.\n",
            "/content/human-detection\n",
            "running install\n",
            "running bdist_egg\n",
            "running egg_info\n",
            "creating human_detection.egg-info\n",
            "writing human_detection.egg-info/PKG-INFO\n",
            "writing dependency_links to human_detection.egg-info/dependency_links.txt\n",
            "writing top-level names to human_detection.egg-info/top_level.txt\n",
            "writing manifest file 'human_detection.egg-info/SOURCES.txt'\n",
            "writing manifest file 'human_detection.egg-info/SOURCES.txt'\n",
            "installing library code to build/bdist.linux-x86_64/egg\n",
            "running install_lib\n",
            "running build_py\n",
            "creating build\n",
            "creating build/lib\n",
            "creating build/lib/human_detection\n",
            "copying human_detection/json_tool.py -> build/lib/human_detection\n",
            "copying human_detection/video_frames.py -> build/lib/human_detection\n",
            "copying human_detection/__init__.py -> build/lib/human_detection\n",
            "copying human_detection/draw_box.py -> build/lib/human_detection\n",
            "creating build/bdist.linux-x86_64\n",
            "creating build/bdist.linux-x86_64/egg\n",
            "creating build/bdist.linux-x86_64/egg/human_detection\n",
            "copying build/lib/human_detection/json_tool.py -> build/bdist.linux-x86_64/egg/human_detection\n",
            "copying build/lib/human_detection/video_frames.py -> build/bdist.linux-x86_64/egg/human_detection\n",
            "copying build/lib/human_detection/__init__.py -> build/bdist.linux-x86_64/egg/human_detection\n",
            "copying build/lib/human_detection/draw_box.py -> build/bdist.linux-x86_64/egg/human_detection\n",
            "byte-compiling build/bdist.linux-x86_64/egg/human_detection/json_tool.py to json_tool.cpython-36.pyc\n",
            "byte-compiling build/bdist.linux-x86_64/egg/human_detection/video_frames.py to video_frames.cpython-36.pyc\n",
            "byte-compiling build/bdist.linux-x86_64/egg/human_detection/__init__.py to __init__.cpython-36.pyc\n",
            "byte-compiling build/bdist.linux-x86_64/egg/human_detection/draw_box.py to draw_box.cpython-36.pyc\n",
            "creating build/bdist.linux-x86_64/egg/EGG-INFO\n",
            "copying human_detection.egg-info/PKG-INFO -> build/bdist.linux-x86_64/egg/EGG-INFO\n",
            "copying human_detection.egg-info/SOURCES.txt -> build/bdist.linux-x86_64/egg/EGG-INFO\n",
            "copying human_detection.egg-info/dependency_links.txt -> build/bdist.linux-x86_64/egg/EGG-INFO\n",
            "copying human_detection.egg-info/top_level.txt -> build/bdist.linux-x86_64/egg/EGG-INFO\n"
          ],
          "name": "stdout"
        },
        {
          "output_type": "stream",
          "text": [
            "zip_safe flag not set; analyzing archive contents...\n",
            "human_detection.__pycache__.__init__.cpython-36: module references __path__\n"
          ],
          "name": "stderr"
        },
        {
          "output_type": "stream",
          "text": [
            "creating dist\n",
            "creating 'dist/human_detection-0.0.1-py3.6.egg' and adding 'build/bdist.linux-x86_64/egg' to it\n",
            "removing 'build/bdist.linux-x86_64/egg' (and everything under it)\n",
            "Processing human_detection-0.0.1-py3.6.egg\n",
            "creating /usr/local/lib/python3.6/dist-packages/human_detection-0.0.1-py3.6.egg\n",
            "Extracting human_detection-0.0.1-py3.6.egg to /usr/local/lib/python3.6/dist-packages\n",
            "Adding human-detection 0.0.1 to easy-install.pth file\n",
            "\n",
            "Installed /usr/local/lib/python3.6/dist-packages/human_detection-0.0.1-py3.6.egg\n",
            "Processing dependencies for human-detection==0.0.1\n",
            "Finished processing dependencies for human-detection==0.0.1\n",
            "/content\n"
          ],
          "name": "stdout"
        }
      ]
    },
    {
      "cell_type": "markdown",
      "metadata": {
        "id": "u99ShxV7We71"
      },
      "source": [
        "# **Restart your environment ! In order to have human_detection package** (CTRL + M)"
      ]
    },
    {
      "cell_type": "markdown",
      "metadata": {
        "id": "sVlNMuCgjRmd"
      },
      "source": [
        "### 2 **Ultralytics yolov5** github\n",
        "\n",
        "No need to restart here like we work in the yolov5 directory"
      ]
    },
    {
      "cell_type": "code",
      "metadata": {
        "id": "wbvMlHd_QwMG",
        "colab": {
          "base_uri": "https://localhost:8080/"
        },
        "outputId": "82f18248-4c0e-4979-e044-3b92b482a875"
      },
      "source": [
        "import torch\n",
        "from IPython.display import clear_output\n",
        "\n",
        "!git clone https://github.com/ultralytics/yolov5  # clone repo\n",
        "\n",
        "%cd yolov5\n",
        "\n",
        "%pip install -qr requirements.txt  # install dependencies\n",
        "\n",
        "clear_output()\n",
        "print('Setup complete. Using torch %s %s' % (\n",
        "    torch.__version__, \n",
        "    torch.cuda.get_device_properties(0) \n",
        "    if torch.cuda.is_available() else 'CPU'))\n",
        "\n",
        "# To fix PyYAML version error use : \n",
        "# pip install --ignore-installed PyYAML"
      ],
      "execution_count": 1,
      "outputs": [
        {
          "output_type": "stream",
          "text": [
            "Setup complete. Using torch 1.7.0+cu101 _CudaDeviceProperties(name='Tesla T4', major=7, minor=5, total_memory=15079MB, multi_processor_count=40)\n"
          ],
          "name": "stdout"
        }
      ]
    },
    {
      "cell_type": "markdown",
      "metadata": {
        "id": "u0-tBBusO85A"
      },
      "source": [
        "# Prepare the data\n",
        "\n",
        "## 1.1 Download youtube video from url with youtube-dl"
      ]
    },
    {
      "cell_type": "code",
      "metadata": {
        "colab": {
          "base_uri": "https://localhost:8080/"
        },
        "id": "ogkq-SstizXt",
        "outputId": "35d509a9-25a3-4792-df9f-77dcf8b0fca5"
      },
      "source": [
        "video_url = \"https://youtu.be/h4s0llOpKrU\"\n",
        "video_filename = \"../input_video.mp4\"\n",
        "\n",
        "!pip install --upgrade youtube-dl\n",
        "!youtube-dl -F $video_url\n",
        "!youtube-dl -f 137 $video_url  -o $video_filename "
      ],
      "execution_count": 2,
      "outputs": [
        {
          "output_type": "stream",
          "text": [
            "Collecting youtube-dl\n",
            "\u001b[?25l  Downloading https://files.pythonhosted.org/packages/46/9c/69f5ede4f4b3e01390a9e9b355cb3bbe4e7550439bd0c33daa0faf87c1ba/youtube_dl-2020.12.14-py2.py3-none-any.whl (1.8MB)\n",
            "\r\u001b[K     |▏                               | 10kB 22.9MB/s eta 0:00:01\r\u001b[K     |▍                               | 20kB 31.3MB/s eta 0:00:01\r\u001b[K     |▌                               | 30kB 28.0MB/s eta 0:00:01\r\u001b[K     |▊                               | 40kB 20.6MB/s eta 0:00:01\r\u001b[K     |▉                               | 51kB 14.6MB/s eta 0:00:01\r\u001b[K     |█                               | 61kB 15.7MB/s eta 0:00:01\r\u001b[K     |█▎                              | 71kB 14.7MB/s eta 0:00:01\r\u001b[K     |█▍                              | 81kB 14.8MB/s eta 0:00:01\r\u001b[K     |█▋                              | 92kB 14.8MB/s eta 0:00:01\r\u001b[K     |█▊                              | 102kB 14.2MB/s eta 0:00:01\r\u001b[K     |██                              | 112kB 14.2MB/s eta 0:00:01\r\u001b[K     |██▏                             | 122kB 14.2MB/s eta 0:00:01\r\u001b[K     |██▎                             | 133kB 14.2MB/s eta 0:00:01\r\u001b[K     |██▌                             | 143kB 14.2MB/s eta 0:00:01\r\u001b[K     |██▋                             | 153kB 14.2MB/s eta 0:00:01\r\u001b[K     |██▉                             | 163kB 14.2MB/s eta 0:00:01\r\u001b[K     |███                             | 174kB 14.2MB/s eta 0:00:01\r\u001b[K     |███▏                            | 184kB 14.2MB/s eta 0:00:01\r\u001b[K     |███▍                            | 194kB 14.2MB/s eta 0:00:01\r\u001b[K     |███▌                            | 204kB 14.2MB/s eta 0:00:01\r\u001b[K     |███▊                            | 215kB 14.2MB/s eta 0:00:01\r\u001b[K     |████                            | 225kB 14.2MB/s eta 0:00:01\r\u001b[K     |████                            | 235kB 14.2MB/s eta 0:00:01\r\u001b[K     |████▎                           | 245kB 14.2MB/s eta 0:00:01\r\u001b[K     |████▍                           | 256kB 14.2MB/s eta 0:00:01\r\u001b[K     |████▋                           | 266kB 14.2MB/s eta 0:00:01\r\u001b[K     |████▉                           | 276kB 14.2MB/s eta 0:00:01\r\u001b[K     |█████                           | 286kB 14.2MB/s eta 0:00:01\r\u001b[K     |█████▏                          | 296kB 14.2MB/s eta 0:00:01\r\u001b[K     |█████▎                          | 307kB 14.2MB/s eta 0:00:01\r\u001b[K     |█████▌                          | 317kB 14.2MB/s eta 0:00:01\r\u001b[K     |█████▊                          | 327kB 14.2MB/s eta 0:00:01\r\u001b[K     |█████▉                          | 337kB 14.2MB/s eta 0:00:01\r\u001b[K     |██████                          | 348kB 14.2MB/s eta 0:00:01\r\u001b[K     |██████▏                         | 358kB 14.2MB/s eta 0:00:01\r\u001b[K     |██████▍                         | 368kB 14.2MB/s eta 0:00:01\r\u001b[K     |██████▋                         | 378kB 14.2MB/s eta 0:00:01\r\u001b[K     |██████▊                         | 389kB 14.2MB/s eta 0:00:01\r\u001b[K     |███████                         | 399kB 14.2MB/s eta 0:00:01\r\u001b[K     |███████                         | 409kB 14.2MB/s eta 0:00:01\r\u001b[K     |███████▎                        | 419kB 14.2MB/s eta 0:00:01\r\u001b[K     |███████▌                        | 430kB 14.2MB/s eta 0:00:01\r\u001b[K     |███████▋                        | 440kB 14.2MB/s eta 0:00:01\r\u001b[K     |███████▉                        | 450kB 14.2MB/s eta 0:00:01\r\u001b[K     |████████                        | 460kB 14.2MB/s eta 0:00:01\r\u001b[K     |████████▏                       | 471kB 14.2MB/s eta 0:00:01\r\u001b[K     |████████▍                       | 481kB 14.2MB/s eta 0:00:01\r\u001b[K     |████████▌                       | 491kB 14.2MB/s eta 0:00:01\r\u001b[K     |████████▊                       | 501kB 14.2MB/s eta 0:00:01\r\u001b[K     |████████▉                       | 512kB 14.2MB/s eta 0:00:01\r\u001b[K     |█████████                       | 522kB 14.2MB/s eta 0:00:01\r\u001b[K     |█████████▎                      | 532kB 14.2MB/s eta 0:00:01\r\u001b[K     |█████████▍                      | 542kB 14.2MB/s eta 0:00:01\r\u001b[K     |█████████▋                      | 552kB 14.2MB/s eta 0:00:01\r\u001b[K     |█████████▊                      | 563kB 14.2MB/s eta 0:00:01\r\u001b[K     |██████████                      | 573kB 14.2MB/s eta 0:00:01\r\u001b[K     |██████████▏                     | 583kB 14.2MB/s eta 0:00:01\r\u001b[K     |██████████▎                     | 593kB 14.2MB/s eta 0:00:01\r\u001b[K     |██████████▌                     | 604kB 14.2MB/s eta 0:00:01\r\u001b[K     |██████████▋                     | 614kB 14.2MB/s eta 0:00:01\r\u001b[K     |██████████▉                     | 624kB 14.2MB/s eta 0:00:01\r\u001b[K     |███████████                     | 634kB 14.2MB/s eta 0:00:01\r\u001b[K     |███████████▏                    | 645kB 14.2MB/s eta 0:00:01\r\u001b[K     |███████████▍                    | 655kB 14.2MB/s eta 0:00:01\r\u001b[K     |███████████▌                    | 665kB 14.2MB/s eta 0:00:01\r\u001b[K     |███████████▊                    | 675kB 14.2MB/s eta 0:00:01\r\u001b[K     |████████████                    | 686kB 14.2MB/s eta 0:00:01\r\u001b[K     |████████████                    | 696kB 14.2MB/s eta 0:00:01\r\u001b[K     |████████████▎                   | 706kB 14.2MB/s eta 0:00:01\r\u001b[K     |████████████▍                   | 716kB 14.2MB/s eta 0:00:01\r\u001b[K     |████████████▋                   | 727kB 14.2MB/s eta 0:00:01\r\u001b[K     |████████████▉                   | 737kB 14.2MB/s eta 0:00:01\r\u001b[K     |█████████████                   | 747kB 14.2MB/s eta 0:00:01\r\u001b[K     |█████████████▏                  | 757kB 14.2MB/s eta 0:00:01\r\u001b[K     |█████████████▎                  | 768kB 14.2MB/s eta 0:00:01\r\u001b[K     |█████████████▌                  | 778kB 14.2MB/s eta 0:00:01\r\u001b[K     |█████████████▋                  | 788kB 14.2MB/s eta 0:00:01\r\u001b[K     |█████████████▉                  | 798kB 14.2MB/s eta 0:00:01\r\u001b[K     |██████████████                  | 808kB 14.2MB/s eta 0:00:01\r\u001b[K     |██████████████▏                 | 819kB 14.2MB/s eta 0:00:01\r\u001b[K     |██████████████▍                 | 829kB 14.2MB/s eta 0:00:01\r\u001b[K     |██████████████▌                 | 839kB 14.2MB/s eta 0:00:01\r\u001b[K     |██████████████▊                 | 849kB 14.2MB/s eta 0:00:01\r\u001b[K     |███████████████                 | 860kB 14.2MB/s eta 0:00:01\r\u001b[K     |███████████████                 | 870kB 14.2MB/s eta 0:00:01\r\u001b[K     |███████████████▎                | 880kB 14.2MB/s eta 0:00:01\r\u001b[K     |███████████████▍                | 890kB 14.2MB/s eta 0:00:01\r\u001b[K     |███████████████▋                | 901kB 14.2MB/s eta 0:00:01\r\u001b[K     |███████████████▉                | 911kB 14.2MB/s eta 0:00:01\r\u001b[K     |████████████████                | 921kB 14.2MB/s eta 0:00:01\r\u001b[K     |████████████████▏               | 931kB 14.2MB/s eta 0:00:01\r\u001b[K     |████████████████▎               | 942kB 14.2MB/s eta 0:00:01\r\u001b[K     |████████████████▌               | 952kB 14.2MB/s eta 0:00:01\r\u001b[K     |████████████████▊               | 962kB 14.2MB/s eta 0:00:01\r\u001b[K     |████████████████▉               | 972kB 14.2MB/s eta 0:00:01\r\u001b[K     |█████████████████               | 983kB 14.2MB/s eta 0:00:01\r\u001b[K     |█████████████████▏              | 993kB 14.2MB/s eta 0:00:01\r\u001b[K     |█████████████████▍              | 1.0MB 14.2MB/s eta 0:00:01\r\u001b[K     |█████████████████▋              | 1.0MB 14.2MB/s eta 0:00:01\r\u001b[K     |█████████████████▊              | 1.0MB 14.2MB/s eta 0:00:01\r\u001b[K     |██████████████████              | 1.0MB 14.2MB/s eta 0:00:01\r\u001b[K     |██████████████████              | 1.0MB 14.2MB/s eta 0:00:01\r\u001b[K     |██████████████████▎             | 1.1MB 14.2MB/s eta 0:00:01\r\u001b[K     |██████████████████▌             | 1.1MB 14.2MB/s eta 0:00:01\r\u001b[K     |██████████████████▋             | 1.1MB 14.2MB/s eta 0:00:01\r\u001b[K     |██████████████████▉             | 1.1MB 14.2MB/s eta 0:00:01\r\u001b[K     |███████████████████             | 1.1MB 14.2MB/s eta 0:00:01\r\u001b[K     |███████████████████▏            | 1.1MB 14.2MB/s eta 0:00:01\r\u001b[K     |███████████████████▍            | 1.1MB 14.2MB/s eta 0:00:01\r\u001b[K     |███████████████████▌            | 1.1MB 14.2MB/s eta 0:00:01\r\u001b[K     |███████████████████▊            | 1.1MB 14.2MB/s eta 0:00:01\r\u001b[K     |███████████████████▉            | 1.1MB 14.2MB/s eta 0:00:01\r\u001b[K     |████████████████████            | 1.2MB 14.2MB/s eta 0:00:01\r\u001b[K     |████████████████████▎           | 1.2MB 14.2MB/s eta 0:00:01\r\u001b[K     |████████████████████▍           | 1.2MB 14.2MB/s eta 0:00:01\r\u001b[K     |████████████████████▋           | 1.2MB 14.2MB/s eta 0:00:01\r\u001b[K     |████████████████████▊           | 1.2MB 14.2MB/s eta 0:00:01\r\u001b[K     |█████████████████████           | 1.2MB 14.2MB/s eta 0:00:01\r\u001b[K     |█████████████████████▏          | 1.2MB 14.2MB/s eta 0:00:01\r\u001b[K     |█████████████████████▎          | 1.2MB 14.2MB/s eta 0:00:01\r\u001b[K     |█████████████████████▌          | 1.2MB 14.2MB/s eta 0:00:01\r\u001b[K     |█████████████████████▋          | 1.2MB 14.2MB/s eta 0:00:01\r\u001b[K     |█████████████████████▉          | 1.3MB 14.2MB/s eta 0:00:01\r\u001b[K     |██████████████████████          | 1.3MB 14.2MB/s eta 0:00:01\r\u001b[K     |██████████████████████▏         | 1.3MB 14.2MB/s eta 0:00:01\r\u001b[K     |██████████████████████▍         | 1.3MB 14.2MB/s eta 0:00:01\r\u001b[K     |██████████████████████▌         | 1.3MB 14.2MB/s eta 0:00:01\r\u001b[K     |██████████████████████▊         | 1.3MB 14.2MB/s eta 0:00:01\r\u001b[K     |███████████████████████         | 1.3MB 14.2MB/s eta 0:00:01\r\u001b[K     |███████████████████████         | 1.3MB 14.2MB/s eta 0:00:01\r\u001b[K     |███████████████████████▎        | 1.3MB 14.2MB/s eta 0:00:01\r\u001b[K     |███████████████████████▍        | 1.4MB 14.2MB/s eta 0:00:01\r\u001b[K     |███████████████████████▋        | 1.4MB 14.2MB/s eta 0:00:01\r\u001b[K     |███████████████████████▉        | 1.4MB 14.2MB/s eta 0:00:01\r\u001b[K     |████████████████████████        | 1.4MB 14.2MB/s eta 0:00:01\r\u001b[K     |████████████████████████▏       | 1.4MB 14.2MB/s eta 0:00:01\r\u001b[K     |████████████████████████▎       | 1.4MB 14.2MB/s eta 0:00:01\r\u001b[K     |████████████████████████▌       | 1.4MB 14.2MB/s eta 0:00:01\r\u001b[K     |████████████████████████▊       | 1.4MB 14.2MB/s eta 0:00:01\r\u001b[K     |████████████████████████▉       | 1.4MB 14.2MB/s eta 0:00:01\r\u001b[K     |█████████████████████████       | 1.4MB 14.2MB/s eta 0:00:01\r\u001b[K     |█████████████████████████▏      | 1.5MB 14.2MB/s eta 0:00:01\r\u001b[K     |█████████████████████████▍      | 1.5MB 14.2MB/s eta 0:00:01\r\u001b[K     |█████████████████████████▋      | 1.5MB 14.2MB/s eta 0:00:01\r\u001b[K     |█████████████████████████▊      | 1.5MB 14.2MB/s eta 0:00:01\r\u001b[K     |██████████████████████████      | 1.5MB 14.2MB/s eta 0:00:01\r\u001b[K     |██████████████████████████      | 1.5MB 14.2MB/s eta 0:00:01\r\u001b[K     |██████████████████████████▎     | 1.5MB 14.2MB/s eta 0:00:01\r\u001b[K     |██████████████████████████▌     | 1.5MB 14.2MB/s eta 0:00:01\r\u001b[K     |██████████████████████████▋     | 1.5MB 14.2MB/s eta 0:00:01\r\u001b[K     |██████████████████████████▉     | 1.5MB 14.2MB/s eta 0:00:01\r\u001b[K     |███████████████████████████     | 1.6MB 14.2MB/s eta 0:00:01\r\u001b[K     |███████████████████████████▏    | 1.6MB 14.2MB/s eta 0:00:01\r\u001b[K     |███████████████████████████▎    | 1.6MB 14.2MB/s eta 0:00:01\r\u001b[K     |███████████████████████████▌    | 1.6MB 14.2MB/s eta 0:00:01\r\u001b[K     |███████████████████████████▊    | 1.6MB 14.2MB/s eta 0:00:01\r\u001b[K     |███████████████████████████▉    | 1.6MB 14.2MB/s eta 0:00:01\r\u001b[K     |████████████████████████████    | 1.6MB 14.2MB/s eta 0:00:01\r\u001b[K     |████████████████████████████▏   | 1.6MB 14.2MB/s eta 0:00:01\r\u001b[K     |████████████████████████████▍   | 1.6MB 14.2MB/s eta 0:00:01\r\u001b[K     |████████████████████████████▋   | 1.6MB 14.2MB/s eta 0:00:01\r\u001b[K     |████████████████████████████▊   | 1.7MB 14.2MB/s eta 0:00:01\r\u001b[K     |█████████████████████████████   | 1.7MB 14.2MB/s eta 0:00:01\r\u001b[K     |█████████████████████████████   | 1.7MB 14.2MB/s eta 0:00:01\r\u001b[K     |█████████████████████████████▎  | 1.7MB 14.2MB/s eta 0:00:01\r\u001b[K     |█████████████████████████████▌  | 1.7MB 14.2MB/s eta 0:00:01\r\u001b[K     |█████████████████████████████▋  | 1.7MB 14.2MB/s eta 0:00:01\r\u001b[K     |█████████████████████████████▉  | 1.7MB 14.2MB/s eta 0:00:01\r\u001b[K     |██████████████████████████████  | 1.7MB 14.2MB/s eta 0:00:01\r\u001b[K     |██████████████████████████████▏ | 1.7MB 14.2MB/s eta 0:00:01\r\u001b[K     |██████████████████████████████▍ | 1.8MB 14.2MB/s eta 0:00:01\r\u001b[K     |██████████████████████████████▌ | 1.8MB 14.2MB/s eta 0:00:01\r\u001b[K     |██████████████████████████████▊ | 1.8MB 14.2MB/s eta 0:00:01\r\u001b[K     |██████████████████████████████▉ | 1.8MB 14.2MB/s eta 0:00:01\r\u001b[K     |███████████████████████████████ | 1.8MB 14.2MB/s eta 0:00:01\r\u001b[K     |███████████████████████████████▎| 1.8MB 14.2MB/s eta 0:00:01\r\u001b[K     |███████████████████████████████▍| 1.8MB 14.2MB/s eta 0:00:01\r\u001b[K     |███████████████████████████████▋| 1.8MB 14.2MB/s eta 0:00:01\r\u001b[K     |███████████████████████████████▊| 1.8MB 14.2MB/s eta 0:00:01\r\u001b[K     |████████████████████████████████| 1.8MB 14.2MB/s eta 0:00:01\r\u001b[K     |████████████████████████████████| 1.9MB 14.2MB/s \n",
            "\u001b[?25hInstalling collected packages: youtube-dl\n",
            "Successfully installed youtube-dl-2020.12.14\n",
            "[youtube] h4s0llOpKrU: Downloading webpage\n",
            "[info] Available formats for h4s0llOpKrU:\n",
            "format code  extension  resolution note\n",
            "249          webm       audio only tiny   53k , opus @ 50k (48000Hz), 282.96KiB\n",
            "250          webm       audio only tiny   71k , opus @ 70k (48000Hz), 374.94KiB\n",
            "140          m4a        audio only tiny  130k , m4a_dash container, mp4a.40.2@128k (44100Hz), 713.10KiB\n",
            "251          webm       audio only tiny  140k , opus @160k (48000Hz), 738.09KiB\n",
            "394          mp4        256x144    144p   71k , av01.0.00M.08, 25fps, video only, 363.07KiB\n",
            "278          webm       256x144    144p   92k , webm container, vp9, 25fps, video only, 497.53KiB\n",
            "160          mp4        256x144    144p  110k , avc1.4d400c, 25fps, video only, 429.41KiB\n",
            "395          mp4        426x240    240p  150k , av01.0.00M.08, 25fps, video only, 730.89KiB\n",
            "242          webm       426x240    240p  224k , vp9, 25fps, video only, 972.57KiB\n",
            "133          mp4        426x240    240p  303k , avc1.4d4015, 25fps, video only, 1.14MiB\n",
            "396          mp4        640x360    360p  329k , av01.0.01M.08, 25fps, video only, 1.42MiB\n",
            "243          webm       640x360    360p  405k , vp9, 25fps, video only, 1.79MiB\n",
            "397          mp4        854x480    480p  605k , av01.0.04M.08, 25fps, video only, 2.47MiB\n",
            "134          mp4        640x360    360p  646k , avc1.4d401e, 25fps, video only, 2.37MiB\n",
            "244          webm       854x480    480p  754k , vp9, 25fps, video only, 3.34MiB\n",
            "398          mp4        1280x720   720p 1093k , av01.0.05M.08, 25fps, video only, 4.55MiB\n",
            "135          mp4        854x480    480p 1116k , avc1.4d401e, 25fps, video only, 3.85MiB\n",
            "247          webm       1280x720   720p 1504k , vp9, 25fps, video only, 6.15MiB\n",
            "399          mp4        1920x1080  1080p 1913k , av01.0.08M.08, 25fps, video only, 7.99MiB\n",
            "136          mp4        1280x720   720p 2003k , avc1.4d401f, 25fps, video only, 5.82MiB\n",
            "137          mp4        1920x1080  1080p 2930k , avc1.640028, 25fps, video only, 8.45MiB\n",
            "18           mp4        640x360    360p  612k , avc1.42001E, 25fps, mp4a.40.2@ 96k (44100Hz), 3.29MiB\n",
            "22           mp4        1280x720   720p 1214k , avc1.64001F, 25fps, mp4a.40.2@192k (44100Hz) (best)\n",
            "[youtube] h4s0llOpKrU: Downloading webpage\n",
            "[download] Destination: ../input_video.mp4\n",
            "\u001b[K[download] 100% of 8.45MiB in 00:00\n"
          ],
          "name": "stdout"
        }
      ]
    },
    {
      "cell_type": "markdown",
      "metadata": {
        "id": "kmHiP_vCdsv0"
      },
      "source": [
        "## 1.2 Transform video to image frames\n"
      ]
    },
    {
      "cell_type": "code",
      "metadata": {
        "id": "kruTAfoKizF1"
      },
      "source": [
        "import human_detection\n",
        "from human_detection.video_frames import video_to_frames, \\\n",
        "                                         write_txt_list_of_filename\n",
        "\n",
        "frames_dir = \"../input_frames\"\n",
        "frames_txt = \"../input_frames.txt\"\n",
        "\n",
        "video_to_frames(video_filename, frames_dir, False)"
      ],
      "execution_count": 3,
      "outputs": []
    },
    {
      "cell_type": "markdown",
      "metadata": {
        "id": "BhuEoI60Zxmm"
      },
      "source": [
        "## 1.3 Load refs and make a video"
      ]
    },
    {
      "cell_type": "code",
      "metadata": {
        "colab": {
          "base_uri": "https://localhost:8080/"
        },
        "id": "HAH2_1mzKjlT",
        "outputId": "9e19eff9-8686-44b8-e69f-2d6c07c9a042"
      },
      "source": [
        "from human_detection.video_frames import frames_to_video\n",
        "from human_detection.draw_box import draw_person_box_on_frames\n",
        "\n",
        "%cd \"/content/\"\n",
        "json_refs = \"/content/human-detection/predictions/ref.json\"\n",
        "pred_frames_dir = '/content/ref_frames'\n",
        "pred_video = '/content/ref_video.mp4'\n",
        "\n",
        "print(\"Draw person box on frames\")\n",
        "draw_person_box_on_frames(json_refs, \n",
        "                          pred_frames_dir,\n",
        "                          confidence=0.50)\n",
        "\n",
        "print(\"Convert frames to video\")\n",
        "frames_to_video(pred_frames_dir, \n",
        "                video_filename=pred_video, \n",
        "                fps=25)"
      ],
      "execution_count": 4,
      "outputs": [
        {
          "output_type": "stream",
          "text": [
            "/content\n",
            "Draw person box on frames\n",
            "Convert frames to video\n"
          ],
          "name": "stdout"
        }
      ]
    },
    {
      "cell_type": "markdown",
      "metadata": {
        "id": "Ghk4KxeRljA4"
      },
      "source": [
        "# Models Comparison\n",
        "\n",
        "## Utilities"
      ]
    },
    {
      "cell_type": "code",
      "metadata": {
        "id": "lCSOTvcNmTQD",
        "colab": {
          "base_uri": "https://localhost:8080/"
        },
        "outputId": "70bafce3-4c93-4cf0-96c5-40774fd1fbe7"
      },
      "source": [
        "%cd \"/content/yolov5\"\n",
        "\n",
        "import os\n",
        "import os.path\n",
        "import glob\n",
        "import cv2\n",
        "import json\n",
        "import numpy\n",
        "import torch\n",
        "import collections\n",
        "import pandas\n",
        "\n",
        "from IPython.display import Image, display\n",
        "\n",
        "from utils.general import box_iou, xywh2xyxy\n",
        "from utils.metrics import ap_per_class\n",
        "\n",
        "def load_human_bbox(objects):\n",
        "  bbox = list()\n",
        "  for obj in objects:\n",
        "    if obj[\"name\"] == \"person\":\n",
        "      bbox.append(list(obj[\"relative_coordinates\"].values()) + [obj[\"confidence\"]])\n",
        "  return numpy.array(bbox)\n",
        "      \n",
        "\n",
        "def compare_result(json_preds, \n",
        "                   json_refs, \n",
        "                   confidence=0.50,\n",
        "                   img_size=(1080, 1920)):\n",
        "\n",
        "  with open(json_preds) as f:\n",
        "    preds = json.load(f)\n",
        "\n",
        "  with open(json_refs) as f:\n",
        "    targets = json.load(f)\n",
        "  \n",
        "  preds.sort(key= lambda e: int(os.path.basename(e['filename'][:-4])))\n",
        "  targets.sort(key= lambda e: int(os.path.basename(e['filename'][:-4])))\n",
        "\n",
        "  stats = list()\n",
        "  for pred, target in zip(preds, targets):\n",
        "    \n",
        "    filename = None\n",
        "    if os.path.basename(pred[\"filename\"]) != os.path.basename(target[\"filename\"]):\n",
        "      print(\"ERROR between {} and {}\".format(pred, target))\n",
        "      return -1\n",
        "    else:\n",
        "      img_height, img_width = img_size\n",
        "\n",
        "      # human only\n",
        "      hpred = load_human_bbox(pred[\"objects\"])\n",
        "      htarget = load_human_bbox(target[\"objects\"])\n",
        "\n",
        "      if htarget.size == 0: # don't care\n",
        "          continue\n",
        "\n",
        "      if hpred.size == 0:\n",
        "        if htarget.size > 0:\n",
        "          #print(\"Not detected in : \", target['filename'])\n",
        "          correct = numpy.zeros((htarget.shape[0], 1), dtype=bool)\n",
        "          #correct = [False] * htarget.shape[0]\n",
        "          zeros = [0] * htarget.shape[0]\n",
        "          stats.append((correct, zeros, zeros, zeros))\n",
        "          #stats.append((torch.zeros(0, niou, dtype=torch.bool), torch.Tensor(), torch.Tensor(), tcls))\n",
        "      else:\n",
        "\n",
        "        htbox = xywh2xyxy(htarget[:, :4])\n",
        "        htbox[:, 0] *= img_width\n",
        "        htbox[:, 1] *= img_height\n",
        "        htbox[:, 2] *= img_width\n",
        "        htbox[:, 3] *= img_height\n",
        "\n",
        "        hpbox = xywh2xyxy(hpred[:, :4])\n",
        "        hpbox[:, 0] *= img_width\n",
        "        hpbox[:, 1] *= img_height\n",
        "        hpbox[:, 2] *= img_width\n",
        "        hpbox[:, 3] *= img_height\n",
        "        \n",
        "        hpbox = torch.from_numpy(hpbox)\n",
        "        htbox = torch.from_numpy(htbox)\n",
        "        ious, tindex = box_iou(hpbox[:, :4], htbox[:, :4]).max(1)\n",
        "\n",
        "        # Append detections\n",
        "        detected_set = set()\n",
        "        correct = numpy.zeros((len(tindex), 1), dtype=bool)\n",
        "        for j in (ious > confidence).nonzero(as_tuple=False):\n",
        "          d = tindex[j]  # detected target\n",
        "          if d.item() not in detected_set:\n",
        "            detected_set.add(d.item())\n",
        "            correct[j, 0] = ious[j] > confidence \n",
        "\n",
        "        tcls = [0] * len(tindex)\n",
        "        stats.append((correct, hpred[:, 4], tcls, tcls))\n",
        "\n",
        "\n",
        "  stats = [numpy.concatenate(x, 0) for x in zip(*stats)]  # to numpy\n",
        "  if len(stats) and stats[0].any(): #a least one True\n",
        "    p, r, ap, f1, ap_class = ap_per_class(*stats)\n",
        "    return [p[0][0], r[0][0], ap[0][0], f1[0][0]]\n",
        "  else:\n",
        "    return [0, 0, 0, 0]"
      ],
      "execution_count": 5,
      "outputs": [
        {
          "output_type": "stream",
          "text": [
            "/content/yolov5\n"
          ],
          "name": "stdout"
        }
      ]
    },
    {
      "cell_type": "markdown",
      "metadata": {
        "id": "YlWiceRca_wB"
      },
      "source": [
        "## Run comparison"
      ]
    },
    {
      "cell_type": "code",
      "metadata": {
        "id": "mHt_nRfrwUtp"
      },
      "source": [
        "confidence = 0.25\n",
        "\n",
        "data = list()\n",
        "for json_preds in glob.glob(\"../human-detection/predictions/yolo*.json\"):  \n",
        "  name = os.path.basename(json_preds)\n",
        "  r = compare_result(json_preds=json_preds,\n",
        "                     json_refs=json_refs,\n",
        "                     confidence=confidence)\n",
        "  data.append([name, confidence] + r)"
      ],
      "execution_count": 17,
      "outputs": []
    },
    {
      "cell_type": "markdown",
      "metadata": {
        "id": "jEPzlEUGbC8J"
      },
      "source": [
        "## Display Results"
      ]
    },
    {
      "cell_type": "code",
      "metadata": {
        "colab": {
          "base_uri": "https://localhost:8080/",
          "height": 331
        },
        "id": "nrVz2FyLxJKq",
        "outputId": "8b5c905a-3bf0-4bf1-9a46-751e6cd81cd4"
      },
      "source": [
        "df = pandas.DataFrame(data, columns=['name', 'confidence', 'precision', 'recall', 'mAP', 'F1'])\n",
        "df = df.round(decimals=2)\n",
        "df.head(10)"
      ],
      "execution_count": 18,
      "outputs": [
        {
          "output_type": "execute_result",
          "data": {
            "text/html": [
              "<div>\n",
              "<style scoped>\n",
              "    .dataframe tbody tr th:only-of-type {\n",
              "        vertical-align: middle;\n",
              "    }\n",
              "\n",
              "    .dataframe tbody tr th {\n",
              "        vertical-align: top;\n",
              "    }\n",
              "\n",
              "    .dataframe thead th {\n",
              "        text-align: right;\n",
              "    }\n",
              "</style>\n",
              "<table border=\"1\" class=\"dataframe\">\n",
              "  <thead>\n",
              "    <tr style=\"text-align: right;\">\n",
              "      <th></th>\n",
              "      <th>name</th>\n",
              "      <th>confidence</th>\n",
              "      <th>precision</th>\n",
              "      <th>recall</th>\n",
              "      <th>mAP</th>\n",
              "      <th>F1</th>\n",
              "    </tr>\n",
              "  </thead>\n",
              "  <tbody>\n",
              "    <tr>\n",
              "      <th>0</th>\n",
              "      <td>yolov5x_result.json</td>\n",
              "      <td>0.25</td>\n",
              "      <td>0.93</td>\n",
              "      <td>0.84</td>\n",
              "      <td>0.84</td>\n",
              "      <td>0.88</td>\n",
              "    </tr>\n",
              "    <tr>\n",
              "      <th>1</th>\n",
              "      <td>yolov5l_result.json</td>\n",
              "      <td>0.25</td>\n",
              "      <td>0.94</td>\n",
              "      <td>0.85</td>\n",
              "      <td>0.84</td>\n",
              "      <td>0.89</td>\n",
              "    </tr>\n",
              "    <tr>\n",
              "      <th>2</th>\n",
              "      <td>yolov5s_result.json</td>\n",
              "      <td>0.25</td>\n",
              "      <td>0.92</td>\n",
              "      <td>0.78</td>\n",
              "      <td>0.75</td>\n",
              "      <td>0.84</td>\n",
              "    </tr>\n",
              "    <tr>\n",
              "      <th>3</th>\n",
              "      <td>yolov4_result.json</td>\n",
              "      <td>0.25</td>\n",
              "      <td>0.94</td>\n",
              "      <td>0.87</td>\n",
              "      <td>0.87</td>\n",
              "      <td>0.90</td>\n",
              "    </tr>\n",
              "    <tr>\n",
              "      <th>4</th>\n",
              "      <td>yolov3_result.json</td>\n",
              "      <td>0.25</td>\n",
              "      <td>0.90</td>\n",
              "      <td>0.80</td>\n",
              "      <td>0.79</td>\n",
              "      <td>0.84</td>\n",
              "    </tr>\n",
              "    <tr>\n",
              "      <th>5</th>\n",
              "      <td>yolov4-csp_result.json</td>\n",
              "      <td>0.25</td>\n",
              "      <td>0.94</td>\n",
              "      <td>0.86</td>\n",
              "      <td>0.86</td>\n",
              "      <td>0.90</td>\n",
              "    </tr>\n",
              "    <tr>\n",
              "      <th>6</th>\n",
              "      <td>yolov4x-mish_result.json</td>\n",
              "      <td>0.25</td>\n",
              "      <td>0.95</td>\n",
              "      <td>0.87</td>\n",
              "      <td>0.87</td>\n",
              "      <td>0.91</td>\n",
              "    </tr>\n",
              "    <tr>\n",
              "      <th>7</th>\n",
              "      <td>yolov5m_result.json</td>\n",
              "      <td>0.25</td>\n",
              "      <td>0.93</td>\n",
              "      <td>0.85</td>\n",
              "      <td>0.84</td>\n",
              "      <td>0.89</td>\n",
              "    </tr>\n",
              "    <tr>\n",
              "      <th>8</th>\n",
              "      <td>yolov4-tiny_result.json</td>\n",
              "      <td>0.25</td>\n",
              "      <td>0.90</td>\n",
              "      <td>0.69</td>\n",
              "      <td>0.69</td>\n",
              "      <td>0.79</td>\n",
              "    </tr>\n",
              "    <tr>\n",
              "      <th>9</th>\n",
              "      <td>result.json</td>\n",
              "      <td>0.25</td>\n",
              "      <td>0.75</td>\n",
              "      <td>0.73</td>\n",
              "      <td>0.72</td>\n",
              "      <td>0.74</td>\n",
              "    </tr>\n",
              "  </tbody>\n",
              "</table>\n",
              "</div>"
            ],
            "text/plain": [
              "                       name  confidence  precision  recall   mAP    F1\n",
              "0       yolov5x_result.json        0.25       0.93    0.84  0.84  0.88\n",
              "1       yolov5l_result.json        0.25       0.94    0.85  0.84  0.89\n",
              "2       yolov5s_result.json        0.25       0.92    0.78  0.75  0.84\n",
              "3        yolov4_result.json        0.25       0.94    0.87  0.87  0.90\n",
              "4        yolov3_result.json        0.25       0.90    0.80  0.79  0.84\n",
              "5    yolov4-csp_result.json        0.25       0.94    0.86  0.86  0.90\n",
              "6  yolov4x-mish_result.json        0.25       0.95    0.87  0.87  0.91\n",
              "7       yolov5m_result.json        0.25       0.93    0.85  0.84  0.89\n",
              "8   yolov4-tiny_result.json        0.25       0.90    0.69  0.69  0.79\n",
              "9               result.json        0.25       0.75    0.73  0.72  0.74"
            ]
          },
          "metadata": {
            "tags": []
          },
          "execution_count": 18
        }
      ]
    },
    {
      "cell_type": "markdown",
      "metadata": {
        "id": "CX3jWOvKbGvS"
      },
      "source": [
        "### The best model is :"
      ]
    },
    {
      "cell_type": "code",
      "metadata": {
        "colab": {
          "base_uri": "https://localhost:8080/"
        },
        "id": "_xvmd2gKSBrX",
        "outputId": "8a305297-a475-4df0-a107-c262a0c23231"
      },
      "source": [
        "print(df.loc[df['mAP'].idxmax()])"
      ],
      "execution_count": null,
      "outputs": [
        {
          "output_type": "stream",
          "text": [
            "name          yolov4_result.json\n",
            "confidence                  0.25\n",
            "precision                   0.94\n",
            "recall                      0.87\n",
            "mAP                         0.87\n",
            "F1                           0.9\n",
            "Name: 3, dtype: object\n"
          ],
          "name": "stdout"
        }
      ]
    }
  ]
}